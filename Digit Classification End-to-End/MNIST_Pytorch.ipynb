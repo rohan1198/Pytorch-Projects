{
 "cells": [
  {
   "cell_type": "markdown",
   "metadata": {},
   "source": [
    "## Importing Dependencies"
   ]
  },
  {
   "cell_type": "code",
   "execution_count": 1,
   "metadata": {},
   "outputs": [],
   "source": [
    "import os\n",
    "import numpy as np\n",
    "import pandas as pd\n",
    "import matplotlib as mpl\n",
    "import matplotlib.pyplot as plt\n",
    "import gzip\n",
    "import requests\n",
    "import itertools\n",
    "\n",
    "from sklearn.model_selection import train_test_split\n",
    "from PIL import Image, ImageOps\n",
    "from timeit import default_timer as timer\n",
    "from collections import Counter\n",
    "\n",
    "import torch\n",
    "import torch.nn as nn\n",
    "import torch.nn.functional as F\n",
    "import torch.optim as optim\n",
    "\n",
    "from torchvision import transforms\n",
    "from torch.utils.data import DataLoader\n",
    "\n",
    "%matplotlib inline"
   ]
  },
  {
   "cell_type": "markdown",
   "metadata": {},
   "source": [
    "## Define the device "
   ]
  },
  {
   "cell_type": "code",
   "execution_count": 2,
   "metadata": {},
   "outputs": [],
   "source": [
    "device = torch.device(\"cuda\" if torch.cuda.is_available() else \"cpu\")"
   ]
  },
  {
   "cell_type": "markdown",
   "metadata": {},
   "source": [
    "## Define the path for the dataset"
   ]
  },
  {
   "cell_type": "code",
   "execution_count": 3,
   "metadata": {},
   "outputs": [],
   "source": [
    "PATH = os.path.join(os.getcwd(), \"mnist\")\n",
    "\n",
    "\n",
    "if not os.path.exists(PATH):\n",
    "    os.makedirs(PATH)"
   ]
  },
  {
   "cell_type": "markdown",
   "metadata": {},
   "source": [
    "## Reading the Dataset and Preprocessing"
   ]
  },
  {
   "cell_type": "markdown",
   "metadata": {},
   "source": [
    "---\n",
    "### A little information about the MNIST dataset\n",
    "\n",
    "- The dataset is stored in a ubyte format.\n",
    "- From the author's website, we can get a little more information about the dataset.\n",
    "<br><br>\n",
    "There are 4 files:\n",
    "    - train-images-idx3-ubyte: training set images\n",
    "    - train-labels-idx1-ubyte: training set labels\n",
    "    - t10k-images-idx3-ubyte:  test set images\n",
    "    - t10k-labels-idx1-ubyte:  test set labels\n",
    "\n",
    "The training set contains 60000 examples, and the test set 10000 examples.\n",
    "\n",
    "\n",
    "http://yann.lecun.com/exdb/mnist/\n",
    "\n",
    "---"
   ]
  },
  {
   "cell_type": "markdown",
   "metadata": {},
   "source": [
    "---\n",
    "- We can write a function to read the ubyte files.\n",
    "- First, we will check if the files are already downloaded in our desired folder.\n",
    "- If they don't exist, we can download them from the website.\n",
    "<br><br>\n",
    "- After either checking if they exist, or downloading them, we then decompress the files and read them as a numpy array using the frombuffer function.\n",
    "---"
   ]
  },
  {
   "cell_type": "code",
   "execution_count": 4,
   "metadata": {},
   "outputs": [],
   "source": [
    "def read(path, url):\n",
    "    if os.path.isfile(path):\n",
    "        with open(path, \"rb\") as f:\n",
    "            raw_data = f.read()\n",
    "            processed_data = np.frombuffer(gzip.decompress(raw_data), dtype = np.uint8).copy()\n",
    "    else:\n",
    "        with open(path, \"wb\") as f:\n",
    "            raw_data = requests.get(url).content\n",
    "            f.write(raw_data)\n",
    "            processed_data = np.frombuffer(gzip.decompress(raw_data), dtype = np.uint8).copy()    \n",
    "    \n",
    "    return processed_data"
   ]
  },
  {
   "cell_type": "markdown",
   "metadata": {},
   "source": [
    "---\n",
    "- Now we can define our train and test files, as they are already provided for us in that format\n",
    "- Our function defined above will take in 2 arguments; the first is the path to save the data, and the next, is to download the data from the website, and read it as numpy arrays\n",
    "---"
   ]
  },
  {
   "cell_type": "code",
   "execution_count": 5,
   "metadata": {},
   "outputs": [],
   "source": [
    "X_train = read(os.path.join(PATH, \"train-images-idx3-ubyte.gz\"), \"http://yann.lecun.com/exdb/mnist/train-images-idx3-ubyte.gz\")\n",
    "y_train = read(os.path.join(PATH, \"train-labels-idx1-ubyte.gz\"), \"http://yann.lecun.com/exdb/mnist/train-labels-idx1-ubyte.gz\")\n",
    "X_test = read(os.path.join(PATH, \"t10k-images-idx3-ubyte.gz\"), \"http://yann.lecun.com/exdb/mnist/t10k-images-idx3-ubyte.gz\")\n",
    "y_test = read(os.path.join(PATH, \"t10k-labels-idx1-ubyte.gz\"), \"http://yann.lecun.com/exdb/mnist/t10k-labels-idx1-ubyte.gz\")"
   ]
  },
  {
   "cell_type": "markdown",
   "metadata": {},
   "source": [
    "- We can check the shapes of the dataset as a sanity check"
   ]
  },
  {
   "cell_type": "code",
   "execution_count": 6,
   "metadata": {},
   "outputs": [
    {
     "name": "stdout",
     "output_type": "stream",
     "text": [
      "(47040000,)\n",
      "(60000,)\n",
      "(7840000,)\n",
      "(10000,)\n"
     ]
    }
   ],
   "source": [
    "X_train = X_train[16:]\n",
    "y_train = y_train[8:]\n",
    "X_test = X_test[16:]\n",
    "y_test = y_test[8:]\n",
    "\n",
    "\n",
    "print(X_train.shape)\n",
    "print(y_train.shape)\n",
    "print(X_test.shape)\n",
    "print(y_test.shape)"
   ]
  },
  {
   "cell_type": "markdown",
   "metadata": {},
   "source": [
    "---\n",
    "- We know that there should be 60000 images in the training set and 10000 images in the test set.\n",
    "- Now we can see that there are in fact about 60000 labels in the train set and about 10000 labels in the test set.\n",
    "- But there seem to be some extra values.\n",
    "<br><br><br>\n",
    "- Upon reading the docs, we find out that:-\n",
    "<br><br>\n",
    "- For all the test files:-\n",
    "    - The first 4 bytes contain the magic number (check outmagic numbers).\n",
    "    - The next 4 bytes contain the information about the number of items.\n",
    "    - The labels start from the 9th byte\n",
    "    - So, in terms of Python indexing, bytes 0:7 are of virtually no use to us.\n",
    "    - This means, we will get exactly 60000 labels (60008 - 8 according to python indexing).\n",
    "<br><br>\n",
    "- For all the train files:- \n",
    "    - The first 4 bytes contain the magic number\n",
    "    - The next 4 bytes contain the number of images.\n",
    "    - The 8 bytes after that contain the information about the number of rows and the number of columns\n",
    "    - This means we can slice the first 16 elements.\n",
    "    - Hence, we end up with 47,040,000 elements.\n",
    "    \n",
    "---"
   ]
  },
  {
   "cell_type": "markdown",
   "metadata": {},
   "source": [
    "- Since the images are of the shape 28 x 28, we can red them as a 1 dimensional array.\n",
    "- Hence, the shape of our train dataset will be (Num_Images, 28*28)\n",
    "- Simillarly, the test dataset will have the shape (Num_Images, 28*28)\n",
    "---"
   ]
  },
  {
   "cell_type": "code",
   "execution_count": 7,
   "metadata": {},
   "outputs": [
    {
     "name": "stdout",
     "output_type": "stream",
     "text": [
      "(60000, 784)\n",
      "(60000,)\n",
      "(10000, 784)\n",
      "(10000,)\n"
     ]
    }
   ],
   "source": [
    "X_train = X_train.reshape(-1, 28 * 28)\n",
    "X_test = X_test.reshape(-1, 28 * 28)\n",
    "\n",
    "print(X_train.shape)\n",
    "print(y_train.shape)\n",
    "print(X_test.shape)\n",
    "print(y_test.shape)"
   ]
  },
  {
   "cell_type": "markdown",
   "metadata": {},
   "source": [
    "---\n",
    "- Now we have a dataset that makes sense.\n",
    "- We have 60000 images of shape 28x28x1, and corresponding 60000 labels\n",
    "<br><br>\n",
    "- Similarly, we have 10000 images of shape 28x28x1, and corresponding 10000 labels\n",
    "---\n",
    "- Now we can try to plot an image and it's corresponding label to see if it matches up\n",
    "---"
   ]
  },
  {
   "cell_type": "code",
   "execution_count": 8,
   "metadata": {},
   "outputs": [
    {
     "data": {
      "image/png": "[encoded data removed]",
      "text/plain": [
       "<Figure size 432x288 with 1 Axes>"
      ]
     },
     "metadata": {
      "needs_background": "light"
     },
     "output_type": "display_data"
    }
   ],
   "source": [
    "index = 0\n",
    "\n",
    "digit = X_train[index].reshape(28, 28)\n",
    "plt.imshow(digit, cmap = mpl.cm.binary)\n",
    "plt.title(f\"The image should have label {y_train[index]}\")\n",
    "plt.axis(\"off\")\n",
    "plt.show()"
   ]
  },
  {
   "cell_type": "markdown",
   "metadata": {},
   "source": [
    "---\n",
    "- We can verify that the label and the image match by changing the index to any value.\n",
    "- As long as it matches up, we know that we have loaded our dataset properly.\n",
    "---"
   ]
  },
  {
   "cell_type": "markdown",
   "metadata": {},
   "source": [
    "- We can also do some other visualizations\n",
    "---"
   ]
  },
  {
   "cell_type": "code",
   "execution_count": 9,
   "metadata": {},
   "outputs": [
    {
     "data": {
      "image/png": "[encoded data removed]",
      "text/plain": [
       "<Figure size 576x576 with 25 Axes>"
      ]
     },
     "metadata": {
      "needs_background": "light"
     },
     "output_type": "display_data"
    }
   ],
   "source": [
    "fig, ax = plt.subplots(nrows = 5, ncols = 5, figsize = (8, 8))\n",
    "fig.subplots_adjust(hspace = .3)\n",
    "\n",
    "for i in range(5):\n",
    "    for j in range(5):\n",
    "        ax[i][j].axis(\"off\")\n",
    "        ax[i][j].imshow(X_test[i + (j * 5), :].astype(np.uint8).reshape(28, 28), cmap = mpl.cm.binary)\n",
    "        ax[i][j].set_title(y_test[i + (j * 5)])"
   ]
  },
  {
   "cell_type": "code",
   "execution_count": 10,
   "metadata": {},
   "outputs": [
    {
     "data": {
      "image/png": "[encoded data removed]",
      "text/plain": [
       "<Figure size 720x720 with 100 Axes>"
      ]
     },
     "metadata": {
      "needs_background": "light"
     },
     "output_type": "display_data"
    }
   ],
   "source": [
    "fig, ax = plt.subplots(nrows = 10, ncols = 10, figsize = (10, 10))\n",
    "fig.subplots_adjust(hspace = .3)\n",
    "\n",
    "for i in range(10):\n",
    "    num_i = X_test[y_test == i]\n",
    "    ax[0][i].set_title(i)\n",
    "    \n",
    "    for j in range(10):\n",
    "        ax[j][i].axis(\"off\")\n",
    "        ax[j][i].imshow(num_i[j, :].astype(np.uint8).reshape(28, 28), cmap = mpl.cm.binary)"
   ]
  },
  {
   "cell_type": "code",
   "execution_count": 11,
   "metadata": {},
   "outputs": [],
   "source": [
    "X_train, X_val, y_train, y_val = train_test_split(X_train, y_train, test_size = 0.2, random_state = 42)"
   ]
  },
  {
   "cell_type": "code",
   "execution_count": 12,
   "metadata": {},
   "outputs": [
    {
     "name": "stdout",
     "output_type": "stream",
     "text": [
      "(48000, 784)\n",
      "(48000,)\n",
      "(12000, 784)\n",
      "(12000,)\n",
      "(10000, 784)\n",
      "(10000,)\n"
     ]
    }
   ],
   "source": [
    "print(X_train.shape)\n",
    "print(y_train.shape)\n",
    "\n",
    "print(X_val.shape)\n",
    "print(y_val.shape)\n",
    "\n",
    "print(X_test.shape)\n",
    "print(y_test.shape)"
   ]
  },
  {
   "cell_type": "code",
   "execution_count": 13,
   "metadata": {},
   "outputs": [],
   "source": [
    "train_trans =  transforms.Compose([transforms.ToPILImage(),\n",
    "                                   transforms.RandomRotation(degrees = 15),\n",
    "                                   transforms.ColorJitter(),\n",
    "                                   transforms.GaussianBlur(kernel_size = 3),\n",
    "                                   transforms.CenterCrop(size = 28),\n",
    "                                   transforms.ToTensor(),\n",
    "                                  ])\n",
    "                    \n",
    "valid_trans = transforms.Compose([transforms.ToPILImage(),\n",
    "                                  transforms.CenterCrop(size = 28),\n",
    "                                  transforms.ToTensor(),\n",
    "                                 ])\n",
    "                   \n",
    "test_trans = transforms.Compose([transforms.ToPILImage(),\n",
    "                                  transforms.CenterCrop(size = 28),\n",
    "                                  transforms.ToTensor(),\n",
    "                                 ])"
   ]
  },
  {
   "cell_type": "code",
   "execution_count": 14,
   "metadata": {},
   "outputs": [],
   "source": [
    "class MNISTDataLoader(torch.utils.data.Dataset):\n",
    "    def __init__(self, images, labels, transforms = None):\n",
    "        self.X = images = images\n",
    "        self.y = labels\n",
    "        self.transforms = transforms\n",
    "        \n",
    "    \n",
    "    def __len__(self):\n",
    "        return len(self.X)\n",
    "    \n",
    "    \n",
    "    def __getitem__(self, i):\n",
    "        data = self.X[i, :]\n",
    "        \n",
    "        data = data.astype(np.uint8).reshape(28, 28, 1)\n",
    "        \n",
    "        if self.transforms:\n",
    "            data = self.transforms(data)\n",
    "            \n",
    "    \n",
    "        if self.y is not None:\n",
    "            return (data, self.y[i])\n",
    "        else:\n",
    "            return data"
   ]
  },
  {
   "cell_type": "code",
   "execution_count": 15,
   "metadata": {},
   "outputs": [],
   "source": [
    "train_set = MNISTDataLoader(X_train, y_train, train_trans)\n",
    "valid_set = MNISTDataLoader(X_val, y_val, valid_trans)\n",
    "test_set = MNISTDataLoader(X_test, y_test, test_trans)"
   ]
  },
  {
   "cell_type": "code",
   "execution_count": 16,
   "metadata": {},
   "outputs": [],
   "source": [
    "class Network(nn.Module):\n",
    "    def __init__(self, input_channels = 1, num_classes = 10):\n",
    "        super(Network, self).__init__()\n",
    "        \n",
    "        self.features = nn.Sequential(nn.Conv2d(input_channels, 32, kernel_size = 5, stride = 1, padding = 2),\n",
    "                                      nn.BatchNorm2d(num_features = 32),\n",
    "                                      nn.MaxPool2d(kernel_size = 2, stride = 2),\n",
    "                                      nn.Conv2d(32, 64, kernel_size = 5, stride = 1, padding = 2),\n",
    "                                      nn.BatchNorm2d(num_features = 64),\n",
    "                                      nn.MaxPool2d(kernel_size = 2, stride = 2),\n",
    "                                      nn.Conv2d(64, 128, kernel_size = 3, stride = 1, padding = 1),\n",
    "                                      nn.BatchNorm2d(num_features = 128),\n",
    "                                      nn.MaxPool2d(kernel_size = 2, stride = 1)\n",
    "                                     )\n",
    "        \n",
    "        self.classifier = nn.Sequential(nn.Linear(128 * 6 * 6, 1024),\n",
    "                                        nn.BatchNorm1d(num_features = 1024),\n",
    "                                        nn.ReLU(),\n",
    "                                        nn.Linear(1024, 512), \n",
    "                                        nn.BatchNorm1d(num_features = 512),\n",
    "                                        nn.ReLU(), \n",
    "                                        nn.Linear(512, 256), \n",
    "                                        nn.BatchNorm1d(num_features = 256),\n",
    "                                        nn.ReLU(), \n",
    "                                        nn.Linear(256, 64), \n",
    "                                        nn.BatchNorm1d(num_features = 64),\n",
    "                                        nn.ReLU(), \n",
    "                                        nn.Linear(64, num_classes),\n",
    "                                       )\n",
    "       \n",
    "    \n",
    "    \n",
    "    def forward(self, x):\n",
    "        x = self.features(x)\n",
    "        x = x.view(x.size(0), 128 * 6 * 6)\n",
    "        x = self.classifier(x)\n",
    "        return x"
   ]
  },
  {
   "cell_type": "code",
   "execution_count": 17,
   "metadata": {},
   "outputs": [],
   "source": [
    "lr = 0.001\n",
    "batch_size = 256\n",
    "epochs = 20\n",
    "n_classes = 10"
   ]
  },
  {
   "cell_type": "code",
   "execution_count": 18,
   "metadata": {},
   "outputs": [],
   "source": [
    "model = Network().to(device)\n",
    "\n",
    "optimizer = optim.Adam(model.parameters(), lr = lr)\n",
    "criterion = nn.CrossEntropyLoss()"
   ]
  },
  {
   "cell_type": "code",
   "execution_count": 19,
   "metadata": {},
   "outputs": [],
   "source": [
    "train_loader = DataLoader(train_set, batch_size = batch_size, shuffle = True)\n",
    "valid_loader = DataLoader(valid_set, batch_size = batch_size, shuffle = False)\n",
    "test_loader = DataLoader(test_set, batch_size = batch_size, shuffle = False)"
   ]
  },
  {
   "cell_type": "code",
   "execution_count": 20,
   "metadata": {},
   "outputs": [],
   "source": [
    "def train(model, criterion, optimizer, train_loader, valid_loader, save_file_name, max_epochs_stop = 5,\n",
    "          n_epochs = 100, print_every = 1):\n",
    "\n",
    "    epochs_no_improve = 0\n",
    "    valid_loss_min = np.Inf\n",
    "\n",
    "    valid_max_acc = 0\n",
    "    history = []\n",
    "\n",
    "    try:\n",
    "        print(f\"Model has been trained for: {model.epochs} epochs\\n\")\n",
    "    except:\n",
    "        model.epochs = 0\n",
    "        print(f\"Starting Training from Scratch.\\n\")\n",
    "\n",
    "    overall_start = timer()\n",
    "\n",
    "    \n",
    "    for epoch in range(n_epochs):\n",
    "        train_loss = 0.0\n",
    "        valid_loss = 0.0\n",
    "\n",
    "        train_acc = 0\n",
    "        valid_acc = 0\n",
    "\n",
    "        model.train()\n",
    "        start = timer()\n",
    "\n",
    "        for ii, (data, target) in enumerate(train_loader):\n",
    "            data, target = data.to(device), target.type(torch.LongTensor).to(device)\n",
    "\n",
    "            optimizer.zero_grad()\n",
    "            output = model(data)\n",
    "\n",
    "            _, pred = torch.max(output, dim = 1)\n",
    "            correct_tensor = pred.eq(target.data.view_as(pred))\n",
    "            accuracy = torch.mean(correct_tensor.type(torch.FloatTensor))\n",
    "            train_acc += accuracy.item() * data.size(0)\n",
    "            \n",
    "            loss = criterion(output, target)\n",
    "            train_loss += loss.item() * data.size(0)\n",
    "\n",
    "            loss.backward()\n",
    "            optimizer.step()\n",
    "\n",
    "            print(f\"Epoch: {epoch}\\t{100 * (ii + 1) / len(train_loader):.2f}% complete. {timer() - start:.2f} seconds elapsed in epoch.\", end = \"\\r\")\n",
    "\n",
    "        else:\n",
    "            model.epochs += 1\n",
    "\n",
    "            with torch.no_grad():\n",
    "                model.eval()\n",
    "\n",
    "                for data, target in valid_loader:\n",
    "                    data, target = data.to(device), target.type(torch.LongTensor).to(device)\n",
    "\n",
    "                    output = model(data)\n",
    "                    _, pred = torch.max(output, dim = 1)\n",
    "                    correct_tensor = pred.eq(target.data.view_as(pred))\n",
    "                    accuracy = torch.mean(correct_tensor.type(torch.FloatTensor))\n",
    "                    valid_acc += accuracy.item() * data.size(0)\n",
    "\n",
    "                    loss = criterion(output, target)\n",
    "                    valid_loss += loss.item() * data.size(0)\n",
    "\n",
    "                train_loss = train_loss / len(train_loader.dataset)\n",
    "                valid_loss = valid_loss / len(valid_loader.dataset)\n",
    "\n",
    "                train_acc = train_acc / len(train_loader.dataset)\n",
    "                valid_acc = valid_acc / len(valid_loader.dataset)\n",
    "\n",
    "                history.append([train_loss, valid_loss, train_acc, valid_acc])\n",
    "\n",
    "                if (epoch + 1) % print_every == 0:\n",
    "                    print(f\"\\nEpoch: {epoch} \\tTraining Loss: {train_loss:.4f}\\t         || \\tValidation Loss: {valid_loss:.4f}\")\n",
    "                    print(f\"\\t\\tTraining Accuracy: {100 * train_acc:.2f}%\\t || \\tValidation Accuracy: {100 * valid_acc:.2f}%\")\n",
    "                    print(\"=\" * 100)\n",
    "                    \n",
    "                if valid_loss < valid_loss_min:\n",
    "                    torch.save(model.state_dict(), save_file_name)\n",
    "                    epochs_no_improve = 0\n",
    "                    valid_loss_min = valid_loss\n",
    "                    valid_best_acc = valid_acc\n",
    "                    best_epoch = epoch\n",
    "                else:\n",
    "                    epochs_no_improve += 1\n",
    "                    if epochs_no_improve >= max_epochs_stop:\n",
    "                        print(f\"\\nEarly Stopping! Total epochs: {epoch}. Best epoch: {best_epoch} with loss: {valid_loss_min:.2f} and acc: {100 * valid_acc:.2f}%\")\n",
    "                        total_time = timer() - overall_start\n",
    "                        print(f\"{total_time:.2f} total seconds elapsed. {total_time / (epoch+1):.2f} seconds per epoch.\")\n",
    "\n",
    "                        model.load_state_dict(torch.load(save_file_name))\n",
    "                        model.optimizer = optimizer\n",
    "\n",
    "                        history = pd.DataFrame(history, columns = ['train_loss', 'valid_loss', 'train_acc', 'valid_acc'])\n",
    "                        return model, history\n",
    "\n",
    "    model.optimizer = optimizer\n",
    "    total_time = timer() - overall_start\n",
    "    print(f\"\\nBest epoch: {best_epoch} with loss: {valid_loss_min:.2f} and acc: {100 * valid_acc:.2f}%\")\n",
    "    print(f\"{total_time:.2f} total seconds elapsed. {total_time / (epoch):.2f} seconds per epoch.\")\n",
    "    print(\"\\n\")\n",
    "\n",
    "    history = pd.DataFrame(history, columns=['train_loss', 'valid_loss', 'train_acc', 'valid_acc'])\n",
    "\n",
    "    return model, history"
   ]
  },
  {
   "cell_type": "code",
   "execution_count": 21,
   "metadata": {
    "scrolled": false
   },
   "outputs": [
    {
     "name": "stdout",
     "output_type": "stream",
     "text": [
      "Starting Training from Scratch.\n",
      "\n",
      "Epoch: 0\t100.00% complete. 17.72 seconds elapsed in epoch.\n",
      "Epoch: 0 \tTraining Loss: 0.2601\t         || \tValidation Loss: 0.0982\n",
      "\t\tTraining Accuracy: 95.42%\t || \tValidation Accuracy: 97.48%\n",
      "====================================================================================================\n",
      "Epoch: 1\t100.00% complete. 15.77 seconds elapsed in epoch.\n",
      "Epoch: 1 \tTraining Loss: 0.0761\t         || \tValidation Loss: 0.0622\n",
      "\t\tTraining Accuracy: 97.97%\t || \tValidation Accuracy: 98.28%\n",
      "====================================================================================================\n",
      "Epoch: 2\t100.00% complete. 16.02 seconds elapsed in epoch.\n",
      "Epoch: 2 \tTraining Loss: 0.0558\t         || \tValidation Loss: 0.0572\n",
      "\t\tTraining Accuracy: 98.39%\t || \tValidation Accuracy: 98.52%\n",
      "====================================================================================================\n",
      "Epoch: 3\t100.00% complete. 15.90 seconds elapsed in epoch.\n",
      "Epoch: 3 \tTraining Loss: 0.0467\t         || \tValidation Loss: 0.0431\n",
      "\t\tTraining Accuracy: 98.60%\t || \tValidation Accuracy: 98.77%\n",
      "====================================================================================================\n",
      "Epoch: 4\t100.00% complete. 15.51 seconds elapsed in epoch.\n",
      "Epoch: 4 \tTraining Loss: 0.0362\t         || \tValidation Loss: 0.0464\n",
      "\t\tTraining Accuracy: 98.94%\t || \tValidation Accuracy: 98.70%\n",
      "====================================================================================================\n",
      "Epoch: 5\t100.00% complete. 15.38 seconds elapsed in epoch.\n",
      "Epoch: 5 \tTraining Loss: 0.0345\t         || \tValidation Loss: 0.0483\n",
      "\t\tTraining Accuracy: 98.92%\t || \tValidation Accuracy: 98.67%\n",
      "====================================================================================================\n",
      "Epoch: 6\t100.00% complete. 15.79 seconds elapsed in epoch.\n",
      "Epoch: 6 \tTraining Loss: 0.0315\t         || \tValidation Loss: 0.0408\n",
      "\t\tTraining Accuracy: 99.03%\t || \tValidation Accuracy: 98.84%\n",
      "====================================================================================================\n",
      "Epoch: 7\t100.00% complete. 15.90 seconds elapsed in epoch.\n",
      "Epoch: 7 \tTraining Loss: 0.0271\t         || \tValidation Loss: 0.0384\n",
      "\t\tTraining Accuracy: 99.19%\t || \tValidation Accuracy: 98.97%\n",
      "====================================================================================================\n",
      "Epoch: 8\t100.00% complete. 16.20 seconds elapsed in epoch.\n",
      "Epoch: 8 \tTraining Loss: 0.0264\t         || \tValidation Loss: 0.0314\n",
      "\t\tTraining Accuracy: 99.19%\t || \tValidation Accuracy: 99.09%\n",
      "====================================================================================================\n",
      "Epoch: 9\t100.00% complete. 15.77 seconds elapsed in epoch.\n",
      "Epoch: 9 \tTraining Loss: 0.0246\t         || \tValidation Loss: 0.0247\n",
      "\t\tTraining Accuracy: 99.26%\t || \tValidation Accuracy: 99.33%\n",
      "====================================================================================================\n",
      "Epoch: 10\t100.00% complete. 15.76 seconds elapsed in epoch.\n",
      "Epoch: 10 \tTraining Loss: 0.0210\t         || \tValidation Loss: 0.0309\n",
      "\t\tTraining Accuracy: 99.35%\t || \tValidation Accuracy: 99.13%\n",
      "====================================================================================================\n",
      "Epoch: 11\t100.00% complete. 16.01 seconds elapsed in epoch.\n",
      "Epoch: 11 \tTraining Loss: 0.0216\t         || \tValidation Loss: 0.0296\n",
      "\t\tTraining Accuracy: 99.33%\t || \tValidation Accuracy: 99.24%\n",
      "====================================================================================================\n",
      "Epoch: 12\t100.00% complete. 15.64 seconds elapsed in epoch.\n",
      "Epoch: 12 \tTraining Loss: 0.0187\t         || \tValidation Loss: 0.0435\n",
      "\t\tTraining Accuracy: 99.40%\t || \tValidation Accuracy: 98.80%\n",
      "====================================================================================================\n",
      "Epoch: 13\t100.00% complete. 15.67 seconds elapsed in epoch.\n",
      "Epoch: 13 \tTraining Loss: 0.0210\t         || \tValidation Loss: 0.0305\n",
      "\t\tTraining Accuracy: 99.36%\t || \tValidation Accuracy: 99.18%\n",
      "====================================================================================================\n",
      "Epoch: 14\t100.00% complete. 15.86 seconds elapsed in epoch.\n",
      "Epoch: 14 \tTraining Loss: 0.0181\t         || \tValidation Loss: 0.0544\n",
      "\t\tTraining Accuracy: 99.44%\t || \tValidation Accuracy: 98.51%\n",
      "====================================================================================================\n",
      "\n",
      "Early Stopping! Total epochs: 14. Best epoch: 9 with loss: 0.02 and acc: 98.51%\n",
      "248.77 total seconds elapsed. 16.58 seconds per epoch.\n"
     ]
    }
   ],
   "source": [
    "model, history = train(model, \n",
    "                       criterion, \n",
    "                       optimizer, \n",
    "                       train_loader, \n",
    "                       valid_loader, \n",
    "                       save_file_name = \"MNIST.pt\", \n",
    "                       max_epochs_stop = 5,\n",
    "                       n_epochs = 20, \n",
    "                       print_every = 1)"
   ]
  },
  {
   "cell_type": "markdown",
   "metadata": {},
   "source": [
    "---\n",
    "- We can plot the evaluation metrics\n",
    "---"
   ]
  },
  {
   "cell_type": "code",
   "execution_count": 22,
   "metadata": {},
   "outputs": [
    {
     "data": {
      "text/plain": [
       "Text(0.5, 1.0, 'Training and Validation Loss')"
      ]
     },
     "execution_count": 22,
     "metadata": {},
     "output_type": "execute_result"
    },
    {
     "data": {
      "image/png": "[encoded data removed]",
      "text/plain": [
       "<Figure size 576x432 with 1 Axes>"
      ]
     },
     "metadata": {
      "needs_background": "light"
     },
     "output_type": "display_data"
    }
   ],
   "source": [
    "plt.figure(figsize = (8, 6))\n",
    "\n",
    "for c in [\"train_loss\", \"valid_loss\"]:\n",
    "    plt.plot(history[c], label = c)\n",
    "    \n",
    "plt.legend()\n",
    "plt.xlabel(\"Epoch\")\n",
    "plt.ylabel(\"Cross Entropy Loss\")\n",
    "plt.title(\"Training and Validation Loss\")"
   ]
  },
  {
   "cell_type": "code",
   "execution_count": 23,
   "metadata": {},
   "outputs": [
    {
     "data": {
      "text/plain": [
       "Text(0.5, 1.0, 'Training and Validation Accuracy')"
      ]
     },
     "execution_count": 23,
     "metadata": {},
     "output_type": "execute_result"
    },
    {
     "data": {
      "image/png": "[encoded data removed]",
      "text/plain": [
       "<Figure size 576x432 with 1 Axes>"
      ]
     },
     "metadata": {
      "needs_background": "light"
     },
     "output_type": "display_data"
    }
   ],
   "source": [
    "plt.figure(figsize = (8, 6))\n",
    "\n",
    "for c in [\"train_acc\", \"valid_acc\"]:\n",
    "    plt.plot(history[c], label = c)\n",
    "    \n",
    "plt.legend()\n",
    "plt.xlabel(\"Epoch\")\n",
    "plt.ylabel(\"Average Accuracy\")\n",
    "plt.title(\"Training and Validation Accuracy\")"
   ]
  },
  {
   "cell_type": "markdown",
   "metadata": {},
   "source": [
    "---\n",
    "- Next we can save the model weights\n",
    "---"
   ]
  },
  {
   "cell_type": "code",
   "execution_count": 24,
   "metadata": {},
   "outputs": [],
   "source": [
    "def save_checkpoint(model, path):\n",
    "    checkpoint = {}\n",
    "    checkpoint[\"epochs\"] = model.epochs\n",
    "    checkpoint[\"classifier\"] = model.classifier\n",
    "    checkpoint[\"state_dict\"] = model.state_dict()\n",
    "    checkpoint[\"optimizer\"] = model.optimizer\n",
    "    checkpoint[\"optimizer_state_dict\"] = model.optimizer.state_dict()\n",
    "    \n",
    "    torch.save(checkpoint, path)"
   ]
  },
  {
   "cell_type": "code",
   "execution_count": 25,
   "metadata": {},
   "outputs": [],
   "source": [
    "save_checkpoint(model, path = \"./MNIST.pth\")"
   ]
  },
  {
   "cell_type": "markdown",
   "metadata": {},
   "source": [
    "---\n",
    "# Inference\n",
    "---"
   ]
  },
  {
   "cell_type": "markdown",
   "metadata": {},
   "source": [
    "---\n",
    "- We can start by loading in the model and checking the parameters to see if it is loaded correctly\n",
    "---"
   ]
  },
  {
   "cell_type": "code",
   "execution_count": 26,
   "metadata": {},
   "outputs": [],
   "source": [
    "class Network(nn.Module):\n",
    "    def __init__(self, input_channels = 1, num_classes = 10):\n",
    "        super(Network, self).__init__()\n",
    "        \n",
    "        self.features = nn.Sequential(nn.Conv2d(input_channels, 32, kernel_size = 5, stride = 1, padding = 2),\n",
    "                                      nn.BatchNorm2d(num_features = 32),\n",
    "                                      nn.MaxPool2d(kernel_size = 2, stride = 2),\n",
    "                                      nn.Conv2d(32, 64, kernel_size = 5, stride = 1, padding = 2),\n",
    "                                      nn.BatchNorm2d(num_features = 64),\n",
    "                                      nn.MaxPool2d(kernel_size = 2, stride = 2),\n",
    "                                      nn.Conv2d(64, 128, kernel_size = 3, stride = 1, padding = 1),\n",
    "                                      nn.BatchNorm2d(num_features = 128),\n",
    "                                      nn.MaxPool2d(kernel_size = 2, stride = 1)\n",
    "                                     )\n",
    "        \n",
    "        self.classifier = nn.Sequential(nn.Linear(128 * 6 * 6, 1024),\n",
    "                                        nn.BatchNorm1d(num_features = 1024),\n",
    "                                        nn.ReLU(),\n",
    "                                        nn.Linear(1024, 512), \n",
    "                                        nn.BatchNorm1d(num_features = 512),\n",
    "                                        nn.ReLU(), \n",
    "                                        nn.Linear(512, 256), \n",
    "                                        nn.BatchNorm1d(num_features = 256),\n",
    "                                        nn.ReLU(), \n",
    "                                        nn.Linear(256, 64), \n",
    "                                        nn.BatchNorm1d(num_features = 64),\n",
    "                                        nn.ReLU(), \n",
    "                                        nn.Linear(64, num_classes),\n",
    "                                       )\n",
    "       \n",
    "    \n",
    "    \n",
    "    def forward(self, x):\n",
    "        x = self.features(x)\n",
    "        x = x.view(x.size(0), 128 * 6 * 6)\n",
    "        x = self.classifier(x)\n",
    "        return x"
   ]
  },
  {
   "cell_type": "code",
   "execution_count": 27,
   "metadata": {},
   "outputs": [
    {
     "name": "stdout",
     "output_type": "stream",
     "text": [
      "Network(\n",
      "  (features): Sequential(\n",
      "    (0): Conv2d(1, 32, kernel_size=(5, 5), stride=(1, 1), padding=(2, 2))\n",
      "    (1): BatchNorm2d(32, eps=1e-05, momentum=0.1, affine=True, track_running_stats=True)\n",
      "    (2): MaxPool2d(kernel_size=2, stride=2, padding=0, dilation=1, ceil_mode=False)\n",
      "    (3): Conv2d(32, 64, kernel_size=(5, 5), stride=(1, 1), padding=(2, 2))\n",
      "    (4): BatchNorm2d(64, eps=1e-05, momentum=0.1, affine=True, track_running_stats=True)\n",
      "    (5): MaxPool2d(kernel_size=2, stride=2, padding=0, dilation=1, ceil_mode=False)\n",
      "    (6): Conv2d(64, 128, kernel_size=(3, 3), stride=(1, 1), padding=(1, 1))\n",
      "    (7): BatchNorm2d(128, eps=1e-05, momentum=0.1, affine=True, track_running_stats=True)\n",
      "    (8): MaxPool2d(kernel_size=2, stride=1, padding=0, dilation=1, ceil_mode=False)\n",
      "  )\n",
      "  (classifier): Sequential(\n",
      "    (0): Linear(in_features=4608, out_features=1024, bias=True)\n",
      "    (1): BatchNorm1d(1024, eps=1e-05, momentum=0.1, affine=True, track_running_stats=True)\n",
      "    (2): ReLU()\n",
      "    (3): Linear(in_features=1024, out_features=512, bias=True)\n",
      "    (4): BatchNorm1d(512, eps=1e-05, momentum=0.1, affine=True, track_running_stats=True)\n",
      "    (5): ReLU()\n",
      "    (6): Linear(in_features=512, out_features=256, bias=True)\n",
      "    (7): BatchNorm1d(256, eps=1e-05, momentum=0.1, affine=True, track_running_stats=True)\n",
      "    (8): ReLU()\n",
      "    (9): Linear(in_features=256, out_features=64, bias=True)\n",
      "    (10): BatchNorm1d(64, eps=1e-05, momentum=0.1, affine=True, track_running_stats=True)\n",
      "    (11): ReLU()\n",
      "    (12): Linear(in_features=64, out_features=10, bias=True)\n",
      "  )\n",
      ")\n"
     ]
    }
   ],
   "source": [
    "print(model)"
   ]
  },
  {
   "cell_type": "code",
   "execution_count": 28,
   "metadata": {},
   "outputs": [],
   "source": [
    "def load_checkpoint(path):\n",
    "    \n",
    "    checkpoint = torch.load(path)\n",
    "    \n",
    "    model = Network()\n",
    "    for param in model.parameters():\n",
    "        param.requires_grad = False\n",
    "    \n",
    "    model.classifier = checkpoint[\"classifier\"]\n",
    "    \n",
    "    model.load_state_dict(checkpoint[\"state_dict\"])\n",
    "    \n",
    "    total_params = sum(p.numel() for p in model.parameters())\n",
    "    total_trainable_params = sum(p.numel() for p in model.parameters() if p.requires_grad)\n",
    "    \n",
    "    print(f'Total Parameters: {total_params:,}')\n",
    "    print(f'Total gradient parameters: {total_trainable_params:,}')\n",
    "    \n",
    "    model.epochs = checkpoint['epochs']\n",
    "\n",
    "    optimizer = checkpoint['optimizer']\n",
    "    optimizer.load_state_dict(checkpoint['optimizer_state_dict'])\n",
    "\n",
    "    return model, optimizer"
   ]
  },
  {
   "cell_type": "code",
   "execution_count": 29,
   "metadata": {},
   "outputs": [
    {
     "name": "stdout",
     "output_type": "stream",
     "text": [
      "Total Parameters: 5,522,954\n",
      "Total gradient parameters: 5,396,554\n"
     ]
    }
   ],
   "source": [
    "model, optimizer = load_checkpoint(path = \"./MNIST.pth\")"
   ]
  },
  {
   "cell_type": "markdown",
   "metadata": {},
   "source": [
    "---\n",
    "- We can check the accuracy of our model by using the function below.\n",
    "- Here, we will calculate the Top-k accuracy, which means that will give the output of the top K predictions from the total number of classes.\n",
    "---"
   ]
  },
  {
   "cell_type": "code",
   "execution_count": 30,
   "metadata": {},
   "outputs": [],
   "source": [
    "def accuracy(output, target, topk = (1, )):\n",
    "    output = output.to(device)\n",
    "    target = target.type(torch.LongTensor).to(device)\n",
    "    \n",
    "    with torch.no_grad():\n",
    "        maxk = max(topk)\n",
    "        batch_size = target.size(0)\n",
    "        \n",
    "        _, pred = output.topk(k = maxk, dim = 1, largest = True, sorted = True)\n",
    "        pred = pred.t()\n",
    "        \n",
    "        correct = pred.eq(target.view(1, -1).expand_as(pred))\n",
    "        \n",
    "        res = []\n",
    "        \n",
    "        for k in topk:\n",
    "            correct_k = correct[:k].view(-1).float().sum(0, keepdim = True)\n",
    "            res.append(correct_k.mul_(100 / batch_size).item())\n",
    "            \n",
    "        return res"
   ]
  },
  {
   "cell_type": "markdown",
   "metadata": {},
   "source": [
    "---\n",
    "- We can test out our model on the test set.\n",
    "- We will start by creating a dummy confusion matrix.\n",
    "- Then, for each image, we will make a prediction.\n",
    "- For each prediction made, we will evaluate it and append the count to the confusion matrix.\n",
    "- This way, we will be avle to tell about the True and False predictions, and will also give an idea about how to handle our dataset\n",
    "---"
   ]
  },
  {
   "cell_type": "code",
   "execution_count": 31,
   "metadata": {},
   "outputs": [],
   "source": [
    "def evaluate(model, test_loader, criterion, topk = (1, 3, 5)):\n",
    "    confusion_matrix = torch.zeros(n_classes, n_classes)\n",
    "    classes = []\n",
    "    losses = []\n",
    "    acc_results = np.zeros((len(test_loader.dataset), len(topk)))\n",
    "    i = 0\n",
    "\n",
    "    model = model.to(device)\n",
    "    model.eval()\n",
    "    \n",
    "    with torch.no_grad():\n",
    "        for data, targets in test_loader:\n",
    "            data, targets = data.to(device), targets.type(torch.LongTensor).to(device)\n",
    "\n",
    "            out = model(data)\n",
    "            _, predscm = torch.max(out, 1)\n",
    "            \n",
    "            for t, p in zip(targets.view(-1), predscm.view(-1)):\n",
    "                confusion_matrix[t.long(), p.long()] += 1\n",
    "            \n",
    "            for pred, true in zip(out, targets):\n",
    "                acc_results[i, :] = accuracy(pred.unsqueeze(0), true.unsqueeze(0), topk)\n",
    "                loss = criterion(pred.view(1, n_classes), true.view(1))\n",
    "                losses.append(loss.item())\n",
    "                i += 1\n",
    "\n",
    "\n",
    "    return confusion_matrix\n",
    "\n",
    "criterion = nn.CrossEntropyLoss()\n",
    "confusion_matrix = evaluate(model, test_loader, criterion)"
   ]
  },
  {
   "cell_type": "code",
   "execution_count": 32,
   "metadata": {},
   "outputs": [],
   "source": [
    "def plot_confusion_matrix(cm, classes, normalize = False, title = 'Confusion matrix', cmap = plt.cm.Blues):\n",
    "    if normalize:\n",
    "        cm = cm.astype('float') / cm.sum(axis = 1)[:, np.newaxis]\n",
    "        print(\"Normalized confusion matrix\")\n",
    "    else:\n",
    "        print('Confusion matrix, without normalization')\n",
    "\n",
    "    plt.imshow(cm, interpolation = 'nearest', cmap = cmap)\n",
    "    plt.title(title)\n",
    "    plt.colorbar()\n",
    "    tick_marks = np.arange(len(classes))\n",
    "    plt.xticks(tick_marks, classes, rotation = 45)\n",
    "    plt.yticks(tick_marks, classes)\n",
    "\n",
    "    fmt = '.2f' if normalize else '.0f'\n",
    "    thresh = cm.max() / 2.\n",
    "    for i, j in itertools.product(range(cm.shape[0]), range(cm.shape[1])):\n",
    "        plt.text(j, i, format(cm[i, j], fmt), horizontalalignment = \"center\", color = \"white\" if cm[i, j] > thresh else \"black\")\n",
    "\n",
    "    plt.tight_layout()\n",
    "    plt.ylabel('True label')\n",
    "    plt.xlabel('Predicted label')\n",
    "    plt.savefig(f'confusion_matrix.png')\n",
    "    return plt"
   ]
  },
  {
   "cell_type": "code",
   "execution_count": 33,
   "metadata": {},
   "outputs": [
    {
     "name": "stdout",
     "output_type": "stream",
     "text": [
      "Confusion matrix, without normalization\n"
     ]
    },
    {
     "data": {
      "image/png": "[encoded data removed]",
      "text/plain": [
       "<Figure size 1440x1440 with 2 Axes>"
      ]
     },
     "metadata": {
      "needs_background": "light"
     },
     "output_type": "display_data"
    }
   ],
   "source": [
    "classnames = [i for i in range(0, n_classes)]\n",
    "\n",
    "\n",
    "plt.figure(figsize = (20, 20))\n",
    "plt = plot_confusion_matrix(confusion_matrix, classnames)"
   ]
  },
  {
   "cell_type": "markdown",
   "metadata": {},
   "source": [
    "---\n",
    "- If we want to test a custom image, we need to perform the same preprocessing operations as we did on our training set, so that it will be compatible with our model.\n",
    "- For our training set, we require our images to be of the size (28, 28), so we will resize the image first.\n",
    "- Then we will normalize it and convert it to a tensor.\n",
    "- We can then predict the image.\n",
    "---"
   ]
  },
  {
   "cell_type": "code",
   "execution_count": 34,
   "metadata": {},
   "outputs": [],
   "source": [
    "def process_image(image_path):\n",
    "    image = Image.open(image_path)\n",
    "    img = image.resize((30, 30))\n",
    "    \n",
    "    width = 30\n",
    "    height = 30\n",
    "    new_width = 28\n",
    "    new_height = 28\n",
    "    \n",
    "    left = (width - new_width) / 2\n",
    "    top = (height - new_height) / 2\n",
    "    right = (width + new_width) / 2\n",
    "    bottom = (height + new_height) / 2\n",
    "    img = img.crop((left, top, right, bottom))\n",
    "    img = ImageOps.grayscale(img)\n",
    "    img = ImageOps.invert(img)\n",
    "    \n",
    "    img = np.array(img).reshape(28, 28, 1).transpose((2, 0, 1)) / 255.0\n",
    "\n",
    "    img_tensor = torch.Tensor(img)\n",
    "\n",
    "    return img_tensor"
   ]
  },
  {
   "cell_type": "code",
   "execution_count": 35,
   "metadata": {},
   "outputs": [],
   "source": [
    "def imshow_tensor(image, ax = None, title = None):\n",
    "    if ax is None:\n",
    "        fig, ax = plt.subplots()\n",
    "\n",
    "    image = image.numpy().transpose(1, 2, 0)\n",
    "\n",
    "    mean = np.array([0.485, 0.456, 0.406])\n",
    "    std = np.array([0.229, 0.224, 0.225])\n",
    "    image = std * image + mean\n",
    "\n",
    "    image = np.clip(image, 0, 1)\n",
    "\n",
    "    ax.imshow(image, cmap = mpl.cm.binary)\n",
    "    plt.axis('off')\n",
    "\n",
    "    return ax, image"
   ]
  },
  {
   "cell_type": "markdown",
   "metadata": {},
   "source": [
    "- We can define the classes as a dictionary, so it will be easier to make the topk prediction"
   ]
  },
  {
   "cell_type": "code",
   "execution_count": 36,
   "metadata": {},
   "outputs": [],
   "source": [
    "classes = {0: \"0\", 1: \"1\", 2: \"2\", 3: \"3\", 4: \"4\", 5: \"5\", 6: \"6\", 7: \"7\", 8: \"8\", 9: \"9\", }"
   ]
  },
  {
   "cell_type": "markdown",
   "metadata": {},
   "source": [
    "---\n",
    "- The Predict function will also give the Top-k prediction on the image\n",
    "- The prediction is clipped to give a value between 0 and 1\n",
    "---"
   ]
  },
  {
   "cell_type": "code",
   "execution_count": 37,
   "metadata": {},
   "outputs": [],
   "source": [
    "def predict(image_path, model, topk = 5):\n",
    "    real_class = image_path.split(\"_\")[-1]\n",
    "    \n",
    "    img_tensor = process_image(image_path)\n",
    "    img_tensor = img_tensor.view(1, 1, 28, 28)\n",
    "\n",
    "    with torch.no_grad():\n",
    "        model = model.to(\"cpu\")\n",
    "        model.eval()\n",
    "\n",
    "        out = model(img_tensor)\n",
    "        ps = torch.exp(out)\n",
    "\n",
    "        topk, topclass = ps.topk(topk, dim = 1)\n",
    "\n",
    "        top_classes = [classes[i] for i in topclass.cpu().numpy()[0]]\n",
    "        top_p = topk.cpu().numpy()[0]\n",
    "\n",
    "        return img_tensor.cpu().squeeze(), top_p, top_classes, real_class"
   ]
  },
  {
   "cell_type": "markdown",
   "metadata": {},
   "source": [
    "---\n",
    "---\n",
    "---"
   ]
  },
  {
   "cell_type": "markdown",
   "metadata": {},
   "source": [
    "# Testing\n",
    "---"
   ]
  },
  {
   "cell_type": "code",
   "execution_count": 38,
   "metadata": {},
   "outputs": [
    {
     "data": {
      "image/png": "[encoded data removed]",
      "text/plain": [
       "<Figure size 432x288 with 1 Axes>"
      ]
     },
     "metadata": {
      "needs_background": "light"
     },
     "output_type": "display_data"
    }
   ],
   "source": [
    "_ = imshow_tensor(process_image(\"./digit_0.png\"))"
   ]
  },
  {
   "cell_type": "code",
   "execution_count": 39,
   "metadata": {},
   "outputs": [],
   "source": [
    "def display_prediction(image_path, model, topk):\n",
    "    img, ps, classes, y_obs = predict(image_path, model, topk)\n",
    "    result = pd.DataFrame({'p': ps}, index = classes)\n",
    "\n",
    "    plt.figure(figsize = (16, 5))\n",
    "    ax = plt.subplot(1, 2, 1)\n",
    "    ax, img = imshow_tensor(img.reshape(1, 28, 28), ax = ax)\n",
    "    \n",
    "    ax.set_title(\"True Prediction: \" + str(y_obs.split(\".\", 1)[0]), size = 20)\n",
    "\n",
    "    ax = plt.subplot(1, 2, 2)\n",
    "    result.sort_values('p')['p'].plot.barh(color = 'blue', edgecolor = 'k', ax = ax)\n",
    "    plt.xlabel('Predicted Probability')\n",
    "    plt.tight_layout()"
   ]
  },
  {
   "cell_type": "code",
   "execution_count": 40,
   "metadata": {},
   "outputs": [
    {
     "data": {
      "image/png": "[encoded data removed]",
      "text/plain": [
       "<Figure size 1152x360 with 2 Axes>"
      ]
     },
     "metadata": {
      "needs_background": "light"
     },
     "output_type": "display_data"
    }
   ],
   "source": [
    "display_prediction(\"./digit_0.png\", model, topk = 5)"
   ]
  },
  {
   "cell_type": "code",
   "execution_count": 41,
   "metadata": {},
   "outputs": [
    {
     "data": {
      "image/png": "[encoded data removed]",
      "text/plain": [
       "<Figure size 1152x360 with 2 Axes>"
      ]
     },
     "metadata": {
      "needs_background": "light"
     },
     "output_type": "display_data"
    }
   ],
   "source": [
    "display_prediction(\"./digit_2.png\", model, topk = 5)"
   ]
  },
  {
   "cell_type": "code",
   "execution_count": null,
   "metadata": {},
   "outputs": [],
   "source": []
  }
 ],
 "metadata": {
  "kernelspec": {
   "display_name": "Python 3",
   "language": "python",
   "name": "python3"
  },
  "language_info": {
   "codemirror_mode": {
    "name": "ipython",
    "version": 3
   },
   "file_extension": ".py",
   "mimetype": "text/x-python",
   "name": "python",
   "nbconvert_exporter": "python",
   "pygments_lexer": "ipython3",
   "version": "3.8.5"
  }
 },
 "nbformat": 4,
 "nbformat_minor": 4
}
